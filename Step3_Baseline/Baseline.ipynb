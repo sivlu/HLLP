{
 "cells": [
  {
   "cell_type": "code",
   "execution_count": 1,
   "metadata": {
    "collapsed": true
   },
   "outputs": [],
   "source": [
    "%matplotlib inline\n",
    "import numpy as np\n",
    "import scipy as sp\n",
    "import matplotlib as mpl\n",
    "import matplotlib.cm as cm\n",
    "import matplotlib.pyplot as plt\n",
    "import pandas as pd\n",
    "pd.set_option('display.width', 500)\n",
    "pd.set_option('display.max_columns', 100)\n",
    "pd.set_option('display.notebook_repr_html', True)\n",
    "import seaborn as sns\n",
    "sns.set_style(\"whitegrid\")\n",
    "sns.set_context(\"poster\")\n",
    "from sklearn.preprocessing import OneHotEncoder\n",
    "from sklearn.cross_validation import train_test_split\n",
    "from sklearn.metrics import mean_squared_error"
   ]
  },
  {
   "cell_type": "markdown",
   "metadata": {},
   "source": [
    "#Step 3: Creating Baseline Models"
   ]
  },
  {
   "cell_type": "markdown",
   "metadata": {},
   "source": [
    "##Part 1: Baseline models for \"match\" prediction##"
   ]
  },
  {
   "cell_type": "markdown",
   "metadata": {},
   "source": [
    "Import training and test data. "
   ]
  },
  {
   "cell_type": "code",
   "execution_count": 2,
   "metadata": {
    "collapsed": false
   },
   "outputs": [],
   "source": [
    "reg_dftrain=pd.read_csv(\"merged_dftrain.csv\")\n",
    "reg_dftest=pd.read_csv(\"merged_dftest.csv\")\n",
    "dftrain = pd.read_csv(\"classification_dftrain.csv\")\n",
    "dftest = pd.read_csv(\"classification_dftest.csv\")"
   ]
  },
  {
   "cell_type": "markdown",
   "metadata": {},
   "source": [
    "Note that since the data is highly skewed (way more no-match than match cases), if our model just predict everything as a \"no-match\", such model will have over 80% correct rate. However, such model won't tell us anything interesting about our data, and thus we should adopt some other base line models. \n",
    "\n",
    "First we can try smapling from a binomial distribution with the proper success rate, which is about 0.16. For each pair of dating people, we randomly draw 0 or 1 from this distribution, and compare with our data. We save the results into dictionaries for all the baseline models, called **base_dict_train** and **base_dict_test** for training and testing results respectively."
   ]
  },
  {
   "cell_type": "code",
   "execution_count": 3,
   "metadata": {
    "collapsed": true
   },
   "outputs": [],
   "source": [
    "base_dict_train = {} #dict for all the baseline models in train\n",
    "base_dict_test = {} #dict for all the baseline models in test"
   ]
  },
  {
   "cell_type": "code",
   "execution_count": 4,
   "metadata": {
    "collapsed": false
   },
   "outputs": [],
   "source": [
    "prob = sum(dftrain['match_x'] == 1)/float(len(dftrain['match_x']))\n",
    "np.random.seed(1)#set a seed so results are consistent every time we run this notebook\n",
    "# args: number of trials, probability of each trial, number of times\n",
    "Ytrain_pred = np.random.binomial(1, prob, len(dftrain))\n",
    "Ytrain_actual = dftrain['match_x'].values\n",
    "Ytest_pred = np.random.binomial(1, prob, len(dftest))\n",
    "Ytest_actual = dftest['match_x'].values"
   ]
  },
  {
   "cell_type": "code",
   "execution_count": 5,
   "metadata": {
    "collapsed": false
   },
   "outputs": [
    {
     "name": "stdout",
     "output_type": "stream",
     "text": [
      "binomial baseline training score:  0.715351393797\n",
      "binomial baseline test score:  0.742673992674\n"
     ]
    }
   ],
   "source": [
    "print \"binomial baseline training score: \", sum(Ytrain_pred==Ytrain_actual)/float(len(dftrain))\n",
    "print \"binomial baseline test score: \", sum(Ytest_pred==Ytest_actual)/float(len(dftest))"
   ]
  },
  {
   "cell_type": "code",
   "execution_count": 6,
   "metadata": {
    "collapsed": true
   },
   "outputs": [],
   "source": [
    "#add both to dict\n",
    "base_dict_train['binomial'] = Ytrain_pred\n",
    "base_dict_test['binomial'] = Ytest_pred"
   ]
  },
  {
   "cell_type": "markdown",
   "metadata": {},
   "source": [
    "We can see binomial baseline gives fairly good prediction. Alternatively, we can come up with a baseline model with some participant bias. For example, before the dating event, every participant is asked to evaluate how much they care about the other sex in terms of **Attractive**, **Sincere**, **Intelligent**, **Fun** and **Ambitious** (Note that we ignore *Shared Interests* because it's not in self-evaluation), and also how much they evaluate themselves in terms of these 5 aspects. A natural way to think about \"matchness\" is that two participants meet each other's expectation. Thus, given two participants *A* and *B*, we can calculate a new column that adds up (*actual A* - *expected A*) + (*actual B* - *expected B*) and then get 84-percentile value. Everything below it would be a \"no-match\" and every above will be a \"match\". "
   ]
  },
  {
   "cell_type": "code",
   "execution_count": 7,
   "metadata": {
    "collapsed": false
   },
   "outputs": [],
   "source": [
    "def get_value_array(df):\n",
    "    actualA = df['attr3_1_x']+df['sinc3_1_x']+df['fun3_1_x']+df['intel3_1_x']+df['amb3_1_x']\n",
    "    expectA = df['attr1_1_y']+df['sinc1_1_y']+df['fun1_1_y']+df['intel1_1_y']+df['amb1_1_y']\n",
    "    actualB = df['attr3_1_y']+df['sinc3_1_y']+df['fun3_1_y']+df['intel3_1_y']+df['amb3_1_y']\n",
    "    expectB = df['attr1_1_x']+df['sinc1_1_x']+df['fun1_1_x']+df['intel1_1_x']+df['amb1_1_x']\n",
    "    return (actualA-expectA)+(actualB-expectB)"
   ]
  },
  {
   "cell_type": "code",
   "execution_count": 8,
   "metadata": {
    "collapsed": false,
    "scrolled": true
   },
   "outputs": [
    {
     "name": "stdout",
     "output_type": "stream",
     "text": [
      "83.2744405183 percentile cutoff is: 4.62068571278\n"
     ]
    }
   ],
   "source": [
    "train_values = get_value_array(dftrain)\n",
    "test_values = get_value_array(dftest)\n",
    "cutoff = np.percentile(train_values, (1-prob)*100) \n",
    "print \"{} percentile cutoff is: {}\".format((1-prob)*100, cutoff)"
   ]
  },
  {
   "cell_type": "code",
   "execution_count": 9,
   "metadata": {
    "collapsed": false
   },
   "outputs": [],
   "source": [
    "Ytrain_pred = [1 if x>=cutoff else 0 for x in train_values]\n",
    "Ytest_pred = [1 if x>=cutoff else 0 for x in test_values]"
   ]
  },
  {
   "cell_type": "code",
   "execution_count": 10,
   "metadata": {
    "collapsed": false
   },
   "outputs": [
    {
     "name": "stdout",
     "output_type": "stream",
     "text": [
      "preference baseline training score:  0.731448763251\n",
      "preference baseline test score:  0.749084249084\n"
     ]
    }
   ],
   "source": [
    "print \"preference baseline training score: \", np.mean(Ytrain_pred==Ytrain_actual)\n",
    "print \"preference baseline test score: \", np.mean(Ytest_pred==Ytest_actual)"
   ]
  },
  {
   "cell_type": "markdown",
   "metadata": {},
   "source": [
    "We can see the scores improved a little bit in both training and test. Now let's add them to dict."
   ]
  },
  {
   "cell_type": "code",
   "execution_count": 11,
   "metadata": {
    "collapsed": true
   },
   "outputs": [],
   "source": [
    "base_dict_train['preference'] = Ytrain_pred\n",
    "base_dict_test['preference'] = Ytest_pred"
   ]
  },
  {
   "cell_type": "markdown",
   "metadata": {},
   "source": [
    "Now we can save them on disk for future use with our classifiers."
   ]
  },
  {
   "cell_type": "code",
   "execution_count": 12,
   "metadata": {
    "collapsed": false
   },
   "outputs": [],
   "source": [
    "train_base = pd.DataFrame.from_dict(base_dict_train)\n",
    "test_base = pd.DataFrame.from_dict(base_dict_test)\n",
    "train_base.to_csv(\"train_baseline_results.csv\")\n",
    "test_base.to_csv(\"test_baseline_results.csv\")"
   ]
  },
  {
   "cell_type": "markdown",
   "metadata": {},
   "source": [
    "One way to fix the unbalanced dataset is to manually create a balanced one. Here we import the balanced train dataset that's also used in classification. "
   ]
  },
  {
   "cell_type": "code",
   "execution_count": 13,
   "metadata": {
    "collapsed": false
   },
   "outputs": [
    {
     "name": "stdout",
     "output_type": "stream",
     "text": [
      "match rate in the dataset is:  0.5\n"
     ]
    }
   ],
   "source": [
    "bal_dftrain = pd.read_csv(\"classification_dftrain_balanced.csv\")\n",
    "print \"match rate in the dataset is: \", np.mean(bal_dftrain['match_x'])"
   ]
  },
  {
   "cell_type": "markdown",
   "metadata": {},
   "source": [
    "We would like to train the baseline models on this balanced dataset and test on test set. We know this is going to be worse than the unbalanced (due to the nature of this problem), but we still want these baselines to be compared with classification with balanced data later on."
   ]
  },
  {
   "cell_type": "code",
   "execution_count": 14,
   "metadata": {
    "collapsed": false
   },
   "outputs": [
    {
     "name": "stdout",
     "output_type": "stream",
     "text": [
      "binomial baseline (BALANCED) training score:  0.518779342723\n",
      "binomial baseline test score:  0.470695970696\n"
     ]
    }
   ],
   "source": [
    "dftrain = bal_dftrain\n",
    "prob = sum(dftrain['match_x'] == 1)/float(len(dftrain['match_x']))\n",
    "np.random.seed(1)#set a seed so results are consistent every time we run this notebook\n",
    "# args: number of trials, probability of each trial, number of times\n",
    "Ytrain_pred = np.random.binomial(1, prob, len(dftrain))\n",
    "Ytrain_actual = dftrain['match_x'].values\n",
    "Ytest_pred = np.random.binomial(1, prob, len(dftest))\n",
    "Ytest_actual = dftest['match_x'].values\n",
    "print \"binomial baseline (BALANCED) training score: \", sum(Ytrain_pred==Ytrain_actual)/float(len(dftrain))\n",
    "print \"binomial baseline test score: \", sum(Ytest_pred==Ytest_actual)/float(len(dftest))"
   ]
  },
  {
   "cell_type": "code",
   "execution_count": 15,
   "metadata": {
    "collapsed": false
   },
   "outputs": [
    {
     "name": "stdout",
     "output_type": "stream",
     "text": [
      "50.0 percentile cutoff is: 0.283957283246\n",
      "preference baseline (BALANCED) training score:  0.507042253521\n",
      "preference baseline test score:  0.521978021978\n"
     ]
    }
   ],
   "source": [
    "train_values = get_value_array(dftrain)\n",
    "test_values = get_value_array(dftest)\n",
    "cutoff = np.percentile(train_values, (1-prob)*100) \n",
    "print \"{} percentile cutoff is: {}\".format((1-prob)*100, cutoff)\n",
    "Ytrain_pred = [1 if x>=cutoff else 0 for x in train_values]\n",
    "Ytest_pred = [1 if x>=cutoff else 0 for x in test_values]\n",
    "print \"preference baseline (BALANCED) training score: \", np.mean(Ytrain_pred==Ytrain_actual)\n",
    "print \"preference baseline test score: \", np.mean(Ytest_pred==Ytest_actual)"
   ]
  },
  {
   "cell_type": "markdown",
   "metadata": {},
   "source": [
    "We can see that for test data, preference baseline is a little bit better than the binomial baseline. "
   ]
  },
  {
   "cell_type": "markdown",
   "metadata": {},
   "source": [
    "##Part 2: baseline models for \"like\" value prediction"
   ]
  },
  {
   "cell_type": "markdown",
   "metadata": {},
   "source": [
    "The \"like\" value is a participant's score (on a scale 1-10) on how much she/he likes each person she/he dated. Note that this value is normalized already. \n",
    "\n",
    "Since the predictions are numerical and hard to get a definite comparison, let's first just use the average as the prediction to get some idea about the mean square error (or MSER) about the data. "
   ]
  },
  {
   "cell_type": "code",
   "execution_count": 16,
   "metadata": {
    "collapsed": true
   },
   "outputs": [],
   "source": [
    "#get actual train and test \"like\" values\n",
    "dftrain = reg_dftrain\n",
    "dftest = reg_dftest\n",
    "Ytrain_actual = dftrain['like_x']\n",
    "Ytest_actual = dftest['like_x']"
   ]
  },
  {
   "cell_type": "code",
   "execution_count": 17,
   "metadata": {
    "collapsed": false
   },
   "outputs": [],
   "source": [
    "#avg \"like\" value each person gives\n",
    "mergedf = pd.concat([dftrain, dftest])\n",
    "avg_like = {}\n",
    "for iid in set(list(mergedf['iid'].values)):\n",
    "    avg_like[iid] = np.mean(mergedf[mergedf['iid'] == iid]['like_x'])\n"
   ]
  },
  {
   "cell_type": "code",
   "execution_count": 18,
   "metadata": {
    "collapsed": false
   },
   "outputs": [
    {
     "name": "stdout",
     "output_type": "stream",
     "text": [
      "mean like is:  0.0034830369057\n"
     ]
    }
   ],
   "source": [
    "train_likes = [y for (x,y) in list(set([(x,avg_like[x]) for x in dftrain['iid']]))]\n",
    "mean_like = np.mean(train_likes)\n",
    "print \"mean like is: \", mean_like"
   ]
  },
  {
   "cell_type": "code",
   "execution_count": 19,
   "metadata": {
    "collapsed": false
   },
   "outputs": [
    {
     "name": "stdout",
     "output_type": "stream",
     "text": [
      "train MSE of mean_like as prediction: 1.00001213155\n",
      "test MSE of mean_like as prediction: 1.03987823419\n"
     ]
    }
   ],
   "source": [
    "#just using mean_like as a prediction\n",
    "print \"train MSE of mean_like as prediction:\", mean_squared_error([mean_like]*len(Ytrain_actual), Ytrain_actual)\n",
    "print \"test MSE of mean_like as prediction:\",mean_squared_error([mean_like]*len(Ytest_actual), Ytest_actual)"
   ]
  },
  {
   "cell_type": "markdown",
   "metadata": {},
   "source": [
    "Just using an average value gives us an baseline to compare with other baseline models. \n",
    "\n",
    "Since different people rate/think how much they \"like\" someone differently, we will firstly assume that everyone has a specific scale on his/her mind when rating, and thus we will first using their average rating (i.e. \"like\" value) in the baseline model. It means we assume for an arbitrary person *A*, *A* will always rate someone within the range $[a,b]$, for some $a$ and $b$. \n",
    "\n",
    "To take into participants' bias, \"like\" can be modeled as individual \"like\" average plus some noise. "
   ]
  },
  {
   "cell_type": "code",
   "execution_count": 20,
   "metadata": {
    "collapsed": false
   },
   "outputs": [],
   "source": [
    "#return best alpha, in terms of lowest mse, and returns best error\n",
    "def get_pre(iid, avg, bias, Y):\n",
    "    iid = iid.values\n",
    "    best_alpha = None\n",
    "    curr_error = None\n",
    "    \n",
    "    for a in alpha:\n",
    "        values = [avg[iid[idx]]+a*bias[idx] for idx in range(len(iid))]\n",
    "        error = mean_squared_error(values,Y)\n",
    "        if curr_error==None or error<curr_error:\n",
    "            curr_error = error\n",
    "            best_alpha = a\n",
    "    return curr_error"
   ]
  },
  {
   "cell_type": "code",
   "execution_count": 21,
   "metadata": {
    "collapsed": false
   },
   "outputs": [
    {
     "name": "stdout",
     "output_type": "stream",
     "text": [
      "train MSE of user average as prediction: 0.665185734789\n",
      "test MSE of user average as prediction: 0.68148615854\n"
     ]
    }
   ],
   "source": [
    "Ytrain_pred = [avg_like[dftrain['iid'].values[idx]] for idx in range(len(dftrain))]\n",
    "Ytest_pred = [avg_like[dftest['iid'].values[idx]] for idx in range(len(dftest))]\n",
    "print \"train MSE of user average as prediction:\", mean_squared_error(Ytrain_pred, Ytrain_actual)\n",
    "print \"test MSE of user average as prediction:\", mean_squared_error(Ytest_pred, Ytest_actual)"
   ]
  },
  {
   "cell_type": "markdown",
   "metadata": {},
   "source": [
    "The MSEs are much better. However, since we use \"like\" results to build our baseline model, this seems a little bit cheating because we asusme every user will in general have a lower or higher scoring system, which may not be true in reality. \n",
    "\n",
    "Without looking at \"like\" values, we can just use the \"values\", which is the bias we preference we mannully calculated, for trian and test and run a naive linear regression with the training \"like\". The preference for a pariticipant A is calculated by *acutal_B - expectation_A*."
   ]
  },
  {
   "cell_type": "code",
   "execution_count": 23,
   "metadata": {
    "collapsed": false
   },
   "outputs": [
    {
     "data": {
      "text/plain": [
       "LinearRegression(copy_X=True, fit_intercept=True, n_jobs=1, normalize=False)"
      ]
     },
     "execution_count": 23,
     "metadata": {},
     "output_type": "execute_result"
    }
   ],
   "source": [
    "from sklearn.linear_model import LinearRegression\n",
    "df = dftrain\n",
    "selfeval = df['attr3_1_y']+df['sinc3_1_y']+df['fun3_1_y']+df['intel3_1_y']+df['amb3_1_y']\n",
    "expectation = df['attr1_1_x']+df['sinc1_1_x']+df['fun1_1_x']+df['intel1_1_x']+df['amb1_1_x']\n",
    "train_values = selfeval-expectation\n",
    "\n",
    "df = dftest\n",
    "selfeval = df['attr3_1_y']+df['sinc3_1_y']+df['fun3_1_y']+df['intel3_1_y']+df['amb3_1_y']\n",
    "expectation = df['attr1_1_x']+df['sinc1_1_x']+df['fun1_1_x']+df['intel1_1_x']+df['amb1_1_x']\n",
    "test_values = selfeval-expectation\n",
    "\n",
    "model = LinearRegression()\n",
    "model.fit(train_values[:,np.newaxis], np.array(Ytrain_actual))"
   ]
  },
  {
   "cell_type": "code",
   "execution_count": 24,
   "metadata": {
    "collapsed": false
   },
   "outputs": [
    {
     "name": "stdout",
     "output_type": "stream",
     "text": [
      "train MSE of preference as prediction: 0.99819816688\n",
      "test MSE of preference as prediction: 1.03594031771\n"
     ]
    }
   ],
   "source": [
    "Ytrain_pred = model.predict(train_values[:,np.newaxis])\n",
    "Ytest_pred = model.predict(test_values[:, np.newaxis])\n",
    "print \"train MSE of preference as prediction:\", mean_squared_error(Ytrain_pred, Ytrain_actual)\n",
    "print \"test MSE of preference as prediction:\", mean_squared_error(Ytest_pred, Ytest_actual)"
   ]
  },
  {
   "cell_type": "markdown",
   "metadata": {},
   "source": [
    "The MSEs are not that good, but still have some improvement comparing to just using the average. We can actually plot the two linear models. "
   ]
  },
  {
   "cell_type": "code",
   "execution_count": 25,
   "metadata": {
    "collapsed": false
   },
   "outputs": [
    {
     "data": {
      "text/plain": [
       "[<matplotlib.lines.Line2D at 0x104307a90>]"
      ]
     },
     "execution_count": 25,
     "metadata": {},
     "output_type": "execute_result"
    },
    {
     "name": "stderr",
     "output_type": "stream",
     "text": [
      "/Users/sivlu/anaconda/lib/python2.7/site-packages/matplotlib/collections.py:590: FutureWarning: elementwise comparison failed; returning scalar instead, but in the future will perform elementwise comparison\n",
      "  if self._edgecolors == str('face'):\n"
     ]
    },
    {
     "data": {
      "image/png": "[encoded data removed]",
      "text/plain": [
       "<matplotlib.figure.Figure at 0x104307c10>"
      ]
     },
     "metadata": {},
     "output_type": "display_data"
    }
   ],
   "source": [
    "plt.scatter(train_values, Ytrain_actual, color=\"red\")\n",
    "plt.plot(train_values, Ytrain_pred)"
   ]
  },
  {
   "cell_type": "code",
   "execution_count": 26,
   "metadata": {
    "collapsed": false
   },
   "outputs": [
    {
     "data": {
      "text/plain": [
       "[<matplotlib.lines.Line2D at 0x10a2b42d0>]"
      ]
     },
     "execution_count": 26,
     "metadata": {},
     "output_type": "execute_result"
    },
    {
     "data": {
      "image/png": "[encoded data removed]",
      "text/plain": [
       "<matplotlib.figure.Figure at 0x10b38f350>"
      ]
     },
     "metadata": {},
     "output_type": "display_data"
    }
   ],
   "source": [
    "plt.scatter(test_values, Ytest_actual, color=\"red\")\n",
    "plt.plot(test_values, Ytest_pred)"
   ]
  },
  {
   "cell_type": "code",
   "execution_count": null,
   "metadata": {
    "collapsed": true
   },
   "outputs": [],
   "source": []
  }
 ],
 "metadata": {
  "kernelspec": {
   "display_name": "Python 2",
   "language": "python",
   "name": "python2"
  },
  "language_info": {
   "codemirror_mode": {
    "name": "ipython",
    "version": 2
   },
   "file_extension": ".py",
   "mimetype": "text/x-python",
   "name": "python",
   "nbconvert_exporter": "python",
   "pygments_lexer": "ipython2",
   "version": "2.7.10"
  }
 },
 "nbformat": 4,
 "nbformat_minor": 0
}
